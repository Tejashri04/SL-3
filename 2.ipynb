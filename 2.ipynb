{
 "cells": [
  {
   "cell_type": "code",
   "execution_count": 78,
   "id": "64b2f6d1",
   "metadata": {},
   "outputs": [],
   "source": [
    "import numpy as np\n",
    "import pandas as pd\n",
    "from numpy import random\n",
    "import seaborn as sns"
   ]
  },
  {
   "cell_type": "code",
   "execution_count": 79,
   "id": "33beb65a",
   "metadata": {},
   "outputs": [],
   "source": [
    "Math_score = random.randint(20,80,30)\n",
    "reading_score = random.randint(10,80,30)\n",
    "writing_score = random.randint(10,90,30)\n",
    "placement_offer = random.randint(500,600,30)\n",
    "offer_count = random.randint(0,30,30)"
   ]
  },
  {
   "cell_type": "code",
   "execution_count": 80,
   "id": "99cea5f7",
   "metadata": {},
   "outputs": [],
   "source": [
    "df = pd.DataFrame({\"math_score\" : Math_score,\"reading_score\" : reading_score,\"writing_score\" : writing_score,\"placement_offer\" : placement_offer,\"offer_count\" : offer_count})"
   ]
  },
  {
   "cell_type": "code",
   "execution_count": 81,
   "id": "1f59cc9a",
   "metadata": {},
   "outputs": [
    {
     "data": {
      "text/html": [
       "<div>\n",
       "<style scoped>\n",
       "    .dataframe tbody tr th:only-of-type {\n",
       "        vertical-align: middle;\n",
       "    }\n",
       "\n",
       "    .dataframe tbody tr th {\n",
       "        vertical-align: top;\n",
       "    }\n",
       "\n",
       "    .dataframe thead th {\n",
       "        text-align: right;\n",
       "    }\n",
       "</style>\n",
       "<table border=\"1\" class=\"dataframe\">\n",
       "  <thead>\n",
       "    <tr style=\"text-align: right;\">\n",
       "      <th></th>\n",
       "      <th>math_score</th>\n",
       "      <th>reading_score</th>\n",
       "      <th>writing_score</th>\n",
       "      <th>placement_offer</th>\n",
       "      <th>offer_count</th>\n",
       "    </tr>\n",
       "  </thead>\n",
       "  <tbody>\n",
       "    <tr>\n",
       "      <th>0</th>\n",
       "      <td>22</td>\n",
       "      <td>47</td>\n",
       "      <td>23</td>\n",
       "      <td>588</td>\n",
       "      <td>9</td>\n",
       "    </tr>\n",
       "    <tr>\n",
       "      <th>1</th>\n",
       "      <td>67</td>\n",
       "      <td>61</td>\n",
       "      <td>77</td>\n",
       "      <td>575</td>\n",
       "      <td>22</td>\n",
       "    </tr>\n",
       "    <tr>\n",
       "      <th>2</th>\n",
       "      <td>43</td>\n",
       "      <td>11</td>\n",
       "      <td>60</td>\n",
       "      <td>575</td>\n",
       "      <td>27</td>\n",
       "    </tr>\n",
       "    <tr>\n",
       "      <th>3</th>\n",
       "      <td>65</td>\n",
       "      <td>17</td>\n",
       "      <td>27</td>\n",
       "      <td>514</td>\n",
       "      <td>15</td>\n",
       "    </tr>\n",
       "    <tr>\n",
       "      <th>4</th>\n",
       "      <td>77</td>\n",
       "      <td>14</td>\n",
       "      <td>44</td>\n",
       "      <td>577</td>\n",
       "      <td>21</td>\n",
       "    </tr>\n",
       "    <tr>\n",
       "      <th>5</th>\n",
       "      <td>27</td>\n",
       "      <td>21</td>\n",
       "      <td>28</td>\n",
       "      <td>541</td>\n",
       "      <td>14</td>\n",
       "    </tr>\n",
       "    <tr>\n",
       "      <th>6</th>\n",
       "      <td>42</td>\n",
       "      <td>15</td>\n",
       "      <td>14</td>\n",
       "      <td>531</td>\n",
       "      <td>12</td>\n",
       "    </tr>\n",
       "    <tr>\n",
       "      <th>7</th>\n",
       "      <td>66</td>\n",
       "      <td>10</td>\n",
       "      <td>85</td>\n",
       "      <td>506</td>\n",
       "      <td>23</td>\n",
       "    </tr>\n",
       "    <tr>\n",
       "      <th>8</th>\n",
       "      <td>76</td>\n",
       "      <td>53</td>\n",
       "      <td>12</td>\n",
       "      <td>508</td>\n",
       "      <td>29</td>\n",
       "    </tr>\n",
       "    <tr>\n",
       "      <th>9</th>\n",
       "      <td>74</td>\n",
       "      <td>32</td>\n",
       "      <td>26</td>\n",
       "      <td>520</td>\n",
       "      <td>8</td>\n",
       "    </tr>\n",
       "    <tr>\n",
       "      <th>10</th>\n",
       "      <td>26</td>\n",
       "      <td>46</td>\n",
       "      <td>83</td>\n",
       "      <td>501</td>\n",
       "      <td>24</td>\n",
       "    </tr>\n",
       "    <tr>\n",
       "      <th>11</th>\n",
       "      <td>26</td>\n",
       "      <td>28</td>\n",
       "      <td>72</td>\n",
       "      <td>514</td>\n",
       "      <td>8</td>\n",
       "    </tr>\n",
       "    <tr>\n",
       "      <th>12</th>\n",
       "      <td>30</td>\n",
       "      <td>61</td>\n",
       "      <td>38</td>\n",
       "      <td>531</td>\n",
       "      <td>26</td>\n",
       "    </tr>\n",
       "    <tr>\n",
       "      <th>13</th>\n",
       "      <td>65</td>\n",
       "      <td>31</td>\n",
       "      <td>54</td>\n",
       "      <td>582</td>\n",
       "      <td>16</td>\n",
       "    </tr>\n",
       "    <tr>\n",
       "      <th>14</th>\n",
       "      <td>20</td>\n",
       "      <td>79</td>\n",
       "      <td>54</td>\n",
       "      <td>549</td>\n",
       "      <td>2</td>\n",
       "    </tr>\n",
       "    <tr>\n",
       "      <th>15</th>\n",
       "      <td>77</td>\n",
       "      <td>59</td>\n",
       "      <td>61</td>\n",
       "      <td>588</td>\n",
       "      <td>10</td>\n",
       "    </tr>\n",
       "    <tr>\n",
       "      <th>16</th>\n",
       "      <td>70</td>\n",
       "      <td>26</td>\n",
       "      <td>61</td>\n",
       "      <td>511</td>\n",
       "      <td>7</td>\n",
       "    </tr>\n",
       "    <tr>\n",
       "      <th>17</th>\n",
       "      <td>68</td>\n",
       "      <td>75</td>\n",
       "      <td>13</td>\n",
       "      <td>503</td>\n",
       "      <td>2</td>\n",
       "    </tr>\n",
       "    <tr>\n",
       "      <th>18</th>\n",
       "      <td>75</td>\n",
       "      <td>75</td>\n",
       "      <td>61</td>\n",
       "      <td>523</td>\n",
       "      <td>22</td>\n",
       "    </tr>\n",
       "    <tr>\n",
       "      <th>19</th>\n",
       "      <td>69</td>\n",
       "      <td>76</td>\n",
       "      <td>76</td>\n",
       "      <td>553</td>\n",
       "      <td>26</td>\n",
       "    </tr>\n",
       "    <tr>\n",
       "      <th>20</th>\n",
       "      <td>25</td>\n",
       "      <td>13</td>\n",
       "      <td>52</td>\n",
       "      <td>556</td>\n",
       "      <td>9</td>\n",
       "    </tr>\n",
       "    <tr>\n",
       "      <th>21</th>\n",
       "      <td>43</td>\n",
       "      <td>59</td>\n",
       "      <td>84</td>\n",
       "      <td>576</td>\n",
       "      <td>5</td>\n",
       "    </tr>\n",
       "    <tr>\n",
       "      <th>22</th>\n",
       "      <td>24</td>\n",
       "      <td>79</td>\n",
       "      <td>11</td>\n",
       "      <td>502</td>\n",
       "      <td>16</td>\n",
       "    </tr>\n",
       "    <tr>\n",
       "      <th>23</th>\n",
       "      <td>30</td>\n",
       "      <td>69</td>\n",
       "      <td>36</td>\n",
       "      <td>507</td>\n",
       "      <td>22</td>\n",
       "    </tr>\n",
       "    <tr>\n",
       "      <th>24</th>\n",
       "      <td>66</td>\n",
       "      <td>56</td>\n",
       "      <td>59</td>\n",
       "      <td>589</td>\n",
       "      <td>21</td>\n",
       "    </tr>\n",
       "    <tr>\n",
       "      <th>25</th>\n",
       "      <td>41</td>\n",
       "      <td>65</td>\n",
       "      <td>45</td>\n",
       "      <td>569</td>\n",
       "      <td>28</td>\n",
       "    </tr>\n",
       "    <tr>\n",
       "      <th>26</th>\n",
       "      <td>28</td>\n",
       "      <td>28</td>\n",
       "      <td>28</td>\n",
       "      <td>536</td>\n",
       "      <td>24</td>\n",
       "    </tr>\n",
       "    <tr>\n",
       "      <th>27</th>\n",
       "      <td>62</td>\n",
       "      <td>11</td>\n",
       "      <td>47</td>\n",
       "      <td>540</td>\n",
       "      <td>7</td>\n",
       "    </tr>\n",
       "    <tr>\n",
       "      <th>28</th>\n",
       "      <td>30</td>\n",
       "      <td>51</td>\n",
       "      <td>22</td>\n",
       "      <td>577</td>\n",
       "      <td>12</td>\n",
       "    </tr>\n",
       "    <tr>\n",
       "      <th>29</th>\n",
       "      <td>59</td>\n",
       "      <td>63</td>\n",
       "      <td>56</td>\n",
       "      <td>537</td>\n",
       "      <td>24</td>\n",
       "    </tr>\n",
       "  </tbody>\n",
       "</table>\n",
       "</div>"
      ],
      "text/plain": [
       "    math_score  reading_score  writing_score  placement_offer  offer_count\n",
       "0           22             47             23              588            9\n",
       "1           67             61             77              575           22\n",
       "2           43             11             60              575           27\n",
       "3           65             17             27              514           15\n",
       "4           77             14             44              577           21\n",
       "5           27             21             28              541           14\n",
       "6           42             15             14              531           12\n",
       "7           66             10             85              506           23\n",
       "8           76             53             12              508           29\n",
       "9           74             32             26              520            8\n",
       "10          26             46             83              501           24\n",
       "11          26             28             72              514            8\n",
       "12          30             61             38              531           26\n",
       "13          65             31             54              582           16\n",
       "14          20             79             54              549            2\n",
       "15          77             59             61              588           10\n",
       "16          70             26             61              511            7\n",
       "17          68             75             13              503            2\n",
       "18          75             75             61              523           22\n",
       "19          69             76             76              553           26\n",
       "20          25             13             52              556            9\n",
       "21          43             59             84              576            5\n",
       "22          24             79             11              502           16\n",
       "23          30             69             36              507           22\n",
       "24          66             56             59              589           21\n",
       "25          41             65             45              569           28\n",
       "26          28             28             28              536           24\n",
       "27          62             11             47              540            7\n",
       "28          30             51             22              577           12\n",
       "29          59             63             56              537           24"
      ]
     },
     "execution_count": 81,
     "metadata": {},
     "output_type": "execute_result"
    }
   ],
   "source": [
    "df"
   ]
  },
  {
   "cell_type": "code",
   "execution_count": 82,
   "id": "e7c4627f",
   "metadata": {},
   "outputs": [
    {
     "data": {
      "text/plain": [
       "math_score         0\n",
       "reading_score      0\n",
       "writing_score      0\n",
       "placement_offer    0\n",
       "offer_count        0\n",
       "dtype: int64"
      ]
     },
     "execution_count": 82,
     "metadata": {},
     "output_type": "execute_result"
    }
   ],
   "source": [
    "df.isnull().sum()"
   ]
  },
  {
   "cell_type": "code",
   "execution_count": 83,
   "id": "26e1b982",
   "metadata": {},
   "outputs": [],
   "source": [
    "df.loc[df['math_score'] < 50 , 'math_score'] = np.nan"
   ]
  },
  {
   "cell_type": "code",
   "execution_count": 84,
   "id": "6086b114",
   "metadata": {},
   "outputs": [
    {
     "data": {
      "text/plain": [
       "math_score         15\n",
       "reading_score       0\n",
       "writing_score       0\n",
       "placement_offer     0\n",
       "offer_count         0\n",
       "dtype: int64"
      ]
     },
     "execution_count": 84,
     "metadata": {},
     "output_type": "execute_result"
    }
   ],
   "source": [
    "df.isnull().sum()"
   ]
  },
  {
   "cell_type": "code",
   "execution_count": 85,
   "id": "9a9419a7",
   "metadata": {},
   "outputs": [],
   "source": [
    "df['math_score'].fillna(value = df['math_score'].mean(),inplace =True)\n",
    "\n",
    "# df = df.fillna(method='ffill')"
   ]
  },
  {
   "cell_type": "code",
   "execution_count": 86,
   "id": "56b12d7c",
   "metadata": {},
   "outputs": [
    {
     "data": {
      "text/plain": [
       "math_score         0\n",
       "reading_score      0\n",
       "writing_score      0\n",
       "placement_offer    0\n",
       "offer_count        0\n",
       "dtype: int64"
      ]
     },
     "execution_count": 86,
     "metadata": {},
     "output_type": "execute_result"
    }
   ],
   "source": [
    "df.isnull().sum()"
   ]
  },
  {
   "cell_type": "code",
   "execution_count": 87,
   "id": "37c43125",
   "metadata": {},
   "outputs": [
    {
     "data": {
      "text/html": [
       "<div>\n",
       "<style scoped>\n",
       "    .dataframe tbody tr th:only-of-type {\n",
       "        vertical-align: middle;\n",
       "    }\n",
       "\n",
       "    .dataframe tbody tr th {\n",
       "        vertical-align: top;\n",
       "    }\n",
       "\n",
       "    .dataframe thead th {\n",
       "        text-align: right;\n",
       "    }\n",
       "</style>\n",
       "<table border=\"1\" class=\"dataframe\">\n",
       "  <thead>\n",
       "    <tr style=\"text-align: right;\">\n",
       "      <th></th>\n",
       "      <th>math_score</th>\n",
       "      <th>reading_score</th>\n",
       "      <th>writing_score</th>\n",
       "      <th>placement_offer</th>\n",
       "      <th>offer_count</th>\n",
       "    </tr>\n",
       "  </thead>\n",
       "  <tbody>\n",
       "    <tr>\n",
       "      <th>0</th>\n",
       "      <td>69.066667</td>\n",
       "      <td>47</td>\n",
       "      <td>23</td>\n",
       "      <td>588</td>\n",
       "      <td>9</td>\n",
       "    </tr>\n",
       "    <tr>\n",
       "      <th>1</th>\n",
       "      <td>67.000000</td>\n",
       "      <td>61</td>\n",
       "      <td>77</td>\n",
       "      <td>575</td>\n",
       "      <td>22</td>\n",
       "    </tr>\n",
       "    <tr>\n",
       "      <th>2</th>\n",
       "      <td>69.066667</td>\n",
       "      <td>11</td>\n",
       "      <td>60</td>\n",
       "      <td>575</td>\n",
       "      <td>27</td>\n",
       "    </tr>\n",
       "    <tr>\n",
       "      <th>3</th>\n",
       "      <td>65.000000</td>\n",
       "      <td>17</td>\n",
       "      <td>27</td>\n",
       "      <td>514</td>\n",
       "      <td>15</td>\n",
       "    </tr>\n",
       "    <tr>\n",
       "      <th>4</th>\n",
       "      <td>77.000000</td>\n",
       "      <td>14</td>\n",
       "      <td>44</td>\n",
       "      <td>577</td>\n",
       "      <td>21</td>\n",
       "    </tr>\n",
       "    <tr>\n",
       "      <th>5</th>\n",
       "      <td>69.066667</td>\n",
       "      <td>21</td>\n",
       "      <td>28</td>\n",
       "      <td>541</td>\n",
       "      <td>14</td>\n",
       "    </tr>\n",
       "    <tr>\n",
       "      <th>6</th>\n",
       "      <td>69.066667</td>\n",
       "      <td>15</td>\n",
       "      <td>14</td>\n",
       "      <td>531</td>\n",
       "      <td>12</td>\n",
       "    </tr>\n",
       "    <tr>\n",
       "      <th>7</th>\n",
       "      <td>66.000000</td>\n",
       "      <td>10</td>\n",
       "      <td>85</td>\n",
       "      <td>506</td>\n",
       "      <td>23</td>\n",
       "    </tr>\n",
       "    <tr>\n",
       "      <th>8</th>\n",
       "      <td>76.000000</td>\n",
       "      <td>53</td>\n",
       "      <td>12</td>\n",
       "      <td>508</td>\n",
       "      <td>29</td>\n",
       "    </tr>\n",
       "    <tr>\n",
       "      <th>9</th>\n",
       "      <td>74.000000</td>\n",
       "      <td>32</td>\n",
       "      <td>26</td>\n",
       "      <td>520</td>\n",
       "      <td>8</td>\n",
       "    </tr>\n",
       "    <tr>\n",
       "      <th>10</th>\n",
       "      <td>69.066667</td>\n",
       "      <td>46</td>\n",
       "      <td>83</td>\n",
       "      <td>501</td>\n",
       "      <td>24</td>\n",
       "    </tr>\n",
       "    <tr>\n",
       "      <th>11</th>\n",
       "      <td>69.066667</td>\n",
       "      <td>28</td>\n",
       "      <td>72</td>\n",
       "      <td>514</td>\n",
       "      <td>8</td>\n",
       "    </tr>\n",
       "    <tr>\n",
       "      <th>12</th>\n",
       "      <td>69.066667</td>\n",
       "      <td>61</td>\n",
       "      <td>38</td>\n",
       "      <td>531</td>\n",
       "      <td>26</td>\n",
       "    </tr>\n",
       "    <tr>\n",
       "      <th>13</th>\n",
       "      <td>65.000000</td>\n",
       "      <td>31</td>\n",
       "      <td>54</td>\n",
       "      <td>582</td>\n",
       "      <td>16</td>\n",
       "    </tr>\n",
       "    <tr>\n",
       "      <th>14</th>\n",
       "      <td>69.066667</td>\n",
       "      <td>79</td>\n",
       "      <td>54</td>\n",
       "      <td>549</td>\n",
       "      <td>2</td>\n",
       "    </tr>\n",
       "    <tr>\n",
       "      <th>15</th>\n",
       "      <td>77.000000</td>\n",
       "      <td>59</td>\n",
       "      <td>61</td>\n",
       "      <td>588</td>\n",
       "      <td>10</td>\n",
       "    </tr>\n",
       "    <tr>\n",
       "      <th>16</th>\n",
       "      <td>70.000000</td>\n",
       "      <td>26</td>\n",
       "      <td>61</td>\n",
       "      <td>511</td>\n",
       "      <td>7</td>\n",
       "    </tr>\n",
       "    <tr>\n",
       "      <th>17</th>\n",
       "      <td>68.000000</td>\n",
       "      <td>75</td>\n",
       "      <td>13</td>\n",
       "      <td>503</td>\n",
       "      <td>2</td>\n",
       "    </tr>\n",
       "    <tr>\n",
       "      <th>18</th>\n",
       "      <td>75.000000</td>\n",
       "      <td>75</td>\n",
       "      <td>61</td>\n",
       "      <td>523</td>\n",
       "      <td>22</td>\n",
       "    </tr>\n",
       "    <tr>\n",
       "      <th>19</th>\n",
       "      <td>69.000000</td>\n",
       "      <td>76</td>\n",
       "      <td>76</td>\n",
       "      <td>553</td>\n",
       "      <td>26</td>\n",
       "    </tr>\n",
       "    <tr>\n",
       "      <th>20</th>\n",
       "      <td>69.066667</td>\n",
       "      <td>13</td>\n",
       "      <td>52</td>\n",
       "      <td>556</td>\n",
       "      <td>9</td>\n",
       "    </tr>\n",
       "    <tr>\n",
       "      <th>21</th>\n",
       "      <td>69.066667</td>\n",
       "      <td>59</td>\n",
       "      <td>84</td>\n",
       "      <td>576</td>\n",
       "      <td>5</td>\n",
       "    </tr>\n",
       "    <tr>\n",
       "      <th>22</th>\n",
       "      <td>69.066667</td>\n",
       "      <td>79</td>\n",
       "      <td>11</td>\n",
       "      <td>502</td>\n",
       "      <td>16</td>\n",
       "    </tr>\n",
       "    <tr>\n",
       "      <th>23</th>\n",
       "      <td>69.066667</td>\n",
       "      <td>69</td>\n",
       "      <td>36</td>\n",
       "      <td>507</td>\n",
       "      <td>22</td>\n",
       "    </tr>\n",
       "    <tr>\n",
       "      <th>24</th>\n",
       "      <td>66.000000</td>\n",
       "      <td>56</td>\n",
       "      <td>59</td>\n",
       "      <td>589</td>\n",
       "      <td>21</td>\n",
       "    </tr>\n",
       "    <tr>\n",
       "      <th>25</th>\n",
       "      <td>69.066667</td>\n",
       "      <td>65</td>\n",
       "      <td>45</td>\n",
       "      <td>569</td>\n",
       "      <td>28</td>\n",
       "    </tr>\n",
       "    <tr>\n",
       "      <th>26</th>\n",
       "      <td>69.066667</td>\n",
       "      <td>28</td>\n",
       "      <td>28</td>\n",
       "      <td>536</td>\n",
       "      <td>24</td>\n",
       "    </tr>\n",
       "    <tr>\n",
       "      <th>27</th>\n",
       "      <td>62.000000</td>\n",
       "      <td>11</td>\n",
       "      <td>47</td>\n",
       "      <td>540</td>\n",
       "      <td>7</td>\n",
       "    </tr>\n",
       "    <tr>\n",
       "      <th>28</th>\n",
       "      <td>69.066667</td>\n",
       "      <td>51</td>\n",
       "      <td>22</td>\n",
       "      <td>577</td>\n",
       "      <td>12</td>\n",
       "    </tr>\n",
       "    <tr>\n",
       "      <th>29</th>\n",
       "      <td>59.000000</td>\n",
       "      <td>63</td>\n",
       "      <td>56</td>\n",
       "      <td>537</td>\n",
       "      <td>24</td>\n",
       "    </tr>\n",
       "  </tbody>\n",
       "</table>\n",
       "</div>"
      ],
      "text/plain": [
       "    math_score  reading_score  writing_score  placement_offer  offer_count\n",
       "0    69.066667             47             23              588            9\n",
       "1    67.000000             61             77              575           22\n",
       "2    69.066667             11             60              575           27\n",
       "3    65.000000             17             27              514           15\n",
       "4    77.000000             14             44              577           21\n",
       "5    69.066667             21             28              541           14\n",
       "6    69.066667             15             14              531           12\n",
       "7    66.000000             10             85              506           23\n",
       "8    76.000000             53             12              508           29\n",
       "9    74.000000             32             26              520            8\n",
       "10   69.066667             46             83              501           24\n",
       "11   69.066667             28             72              514            8\n",
       "12   69.066667             61             38              531           26\n",
       "13   65.000000             31             54              582           16\n",
       "14   69.066667             79             54              549            2\n",
       "15   77.000000             59             61              588           10\n",
       "16   70.000000             26             61              511            7\n",
       "17   68.000000             75             13              503            2\n",
       "18   75.000000             75             61              523           22\n",
       "19   69.000000             76             76              553           26\n",
       "20   69.066667             13             52              556            9\n",
       "21   69.066667             59             84              576            5\n",
       "22   69.066667             79             11              502           16\n",
       "23   69.066667             69             36              507           22\n",
       "24   66.000000             56             59              589           21\n",
       "25   69.066667             65             45              569           28\n",
       "26   69.066667             28             28              536           24\n",
       "27   62.000000             11             47              540            7\n",
       "28   69.066667             51             22              577           12\n",
       "29   59.000000             63             56              537           24"
      ]
     },
     "execution_count": 87,
     "metadata": {},
     "output_type": "execute_result"
    }
   ],
   "source": [
    "df"
   ]
  },
  {
   "cell_type": "code",
   "execution_count": 88,
   "id": "00cf5e23",
   "metadata": {},
   "outputs": [
    {
     "data": {
      "text/plain": [
       "0     69.066667\n",
       "1     67.000000\n",
       "2     69.066667\n",
       "3     65.000000\n",
       "4     77.000000\n",
       "5     69.066667\n",
       "6     69.066667\n",
       "7     66.000000\n",
       "8     76.000000\n",
       "9     74.000000\n",
       "10    69.066667\n",
       "11    69.066667\n",
       "12    69.066667\n",
       "13    65.000000\n",
       "14    69.066667\n",
       "15    77.000000\n",
       "16    70.000000\n",
       "17    68.000000\n",
       "18    75.000000\n",
       "19    69.000000\n",
       "20    69.066667\n",
       "21    69.066667\n",
       "22    69.066667\n",
       "23    69.066667\n",
       "24    66.000000\n",
       "25    69.066667\n",
       "26    69.066667\n",
       "27    62.000000\n",
       "28    69.066667\n",
       "29    59.000000\n",
       "Name: math_score, dtype: float64"
      ]
     },
     "execution_count": 88,
     "metadata": {},
     "output_type": "execute_result"
    }
   ],
   "source": [
    "df['math_score']"
   ]
  },
  {
   "cell_type": "code",
   "execution_count": 89,
   "id": "14d32e19",
   "metadata": {},
   "outputs": [],
   "source": [
    "sort_data = np.sort(df.math_score)"
   ]
  },
  {
   "cell_type": "code",
   "execution_count": 90,
   "id": "c3ded607",
   "metadata": {},
   "outputs": [
    {
     "data": {
      "text/plain": [
       "array([59.        , 62.        , 65.        , 65.        , 66.        ,\n",
       "       66.        , 67.        , 68.        , 69.        , 69.06666667,\n",
       "       69.06666667, 69.06666667, 69.06666667, 69.06666667, 69.06666667,\n",
       "       69.06666667, 69.06666667, 69.06666667, 69.06666667, 69.06666667,\n",
       "       69.06666667, 69.06666667, 69.06666667, 69.06666667, 70.        ,\n",
       "       74.        , 75.        , 76.        , 77.        , 77.        ])"
      ]
     },
     "execution_count": 90,
     "metadata": {},
     "output_type": "execute_result"
    }
   ],
   "source": [
    "sort_data"
   ]
  },
  {
   "cell_type": "code",
   "execution_count": 91,
   "id": "98c46ac2",
   "metadata": {},
   "outputs": [],
   "source": [
    "df[\"math_score\"]=df[\"math_score\"].astype(int)"
   ]
  },
  {
   "cell_type": "code",
   "execution_count": 92,
   "id": "f669c332",
   "metadata": {},
   "outputs": [
    {
     "name": "stderr",
     "output_type": "stream",
     "text": [
      "C:\\Users\\hp\\AppData\\Local\\Temp\\ipykernel_23716\\3335390210.py:1: DeprecationWarning: the `interpolation=` argument to percentile was renamed to `method=`, which has additional options.\n",
      "Users of the modes 'nearest', 'lower', 'higher', or 'midpoint' are encouraged to review the method they used. (Deprecated NumPy 1.22)\n",
      "  Q1=np.percentile(sort_data,25,interpolation='midpoint')\n",
      "C:\\Users\\hp\\AppData\\Local\\Temp\\ipykernel_23716\\3335390210.py:2: DeprecationWarning: the `interpolation=` argument to percentile was renamed to `method=`, which has additional options.\n",
      "Users of the modes 'nearest', 'lower', 'higher', or 'midpoint' are encouraged to review the method they used. (Deprecated NumPy 1.22)\n",
      "  Q3=np.percentile(sort_data,75,interpolation='midpoint')\n"
     ]
    }
   ],
   "source": [
    "Q1=np.percentile(sort_data,25,interpolation='midpoint')\n",
    "Q3=np.percentile(sort_data,75,interpolation='midpoint')"
   ]
  },
  {
   "cell_type": "code",
   "execution_count": 93,
   "id": "2500a5d5",
   "metadata": {},
   "outputs": [
    {
     "data": {
      "text/plain": [
       "68.5"
      ]
     },
     "execution_count": 93,
     "metadata": {},
     "output_type": "execute_result"
    }
   ],
   "source": [
    "Q1"
   ]
  },
  {
   "cell_type": "code",
   "execution_count": 94,
   "id": "b8d27e3c",
   "metadata": {},
   "outputs": [
    {
     "data": {
      "text/plain": [
       "69.06666666666666"
      ]
     },
     "execution_count": 94,
     "metadata": {},
     "output_type": "execute_result"
    }
   ],
   "source": [
    "Q3"
   ]
  },
  {
   "cell_type": "code",
   "execution_count": 95,
   "id": "44ad611e",
   "metadata": {},
   "outputs": [],
   "source": [
    "IQR=Q3-Q1"
   ]
  },
  {
   "cell_type": "code",
   "execution_count": 96,
   "id": "296073c3",
   "metadata": {},
   "outputs": [
    {
     "data": {
      "text/plain": [
       "0.5666666666666629"
      ]
     },
     "execution_count": 96,
     "metadata": {},
     "output_type": "execute_result"
    }
   ],
   "source": [
    "IQR"
   ]
  },
  {
   "cell_type": "code",
   "execution_count": 97,
   "id": "e363df7b",
   "metadata": {},
   "outputs": [],
   "source": [
    "lowlim=Q1-1.5 * IQR\n",
    "upplim=Q3+1.5 * IQR"
   ]
  },
  {
   "cell_type": "code",
   "execution_count": 98,
   "id": "c0ab9d31",
   "metadata": {},
   "outputs": [
    {
     "data": {
      "text/plain": [
       "67.65"
      ]
     },
     "execution_count": 98,
     "metadata": {},
     "output_type": "execute_result"
    }
   ],
   "source": [
    "lowlim"
   ]
  },
  {
   "cell_type": "code",
   "execution_count": 99,
   "id": "cc268767",
   "metadata": {},
   "outputs": [
    {
     "data": {
      "text/plain": [
       "69.91666666666666"
      ]
     },
     "execution_count": 99,
     "metadata": {},
     "output_type": "execute_result"
    }
   ],
   "source": [
    "upplim"
   ]
  },
  {
   "cell_type": "code",
   "execution_count": 100,
   "id": "c955c057",
   "metadata": {},
   "outputs": [],
   "source": [
    "outlier=[]\n",
    "for x in sort_data:\n",
    "    if((x> upplim) or (x< lowlim)):\n",
    "        outlier.append(x)"
   ]
  },
  {
   "cell_type": "code",
   "execution_count": 101,
   "id": "8569f805",
   "metadata": {},
   "outputs": [
    {
     "data": {
      "text/plain": [
       "[59.0, 62.0, 65.0, 65.0, 66.0, 66.0, 67.0, 70.0, 74.0, 75.0, 76.0, 77.0, 77.0]"
      ]
     },
     "execution_count": 101,
     "metadata": {},
     "output_type": "execute_result"
    }
   ],
   "source": [
    "outlier"
   ]
  },
  {
   "cell_type": "code",
   "execution_count": 102,
   "id": "dd0db4d7",
   "metadata": {},
   "outputs": [
    {
     "data": {
      "text/plain": [
       "<Axes: >"
      ]
     },
     "execution_count": 102,
     "metadata": {},
     "output_type": "execute_result"
    },
    {
     "data": {
      "image/png": "[encoded data removed]",
      "text/plain": [
       "<Figure size 640x480 with 1 Axes>"
      ]
     },
     "metadata": {},
     "output_type": "display_data"
    }
   ],
   "source": [
    "sns.boxplot(sort_data)"
   ]
  },
  {
   "cell_type": "code",
   "execution_count": 103,
   "id": "67c06d69",
   "metadata": {},
   "outputs": [],
   "source": [
    "from sklearn import preprocessing"
   ]
  },
  {
   "cell_type": "code",
   "execution_count": 104,
   "id": "27c757c7",
   "metadata": {},
   "outputs": [],
   "source": [
    "scaler=preprocessing.MinMaxScaler()"
   ]
  },
  {
   "cell_type": "code",
   "execution_count": 105,
   "id": "50a9a2d7",
   "metadata": {},
   "outputs": [],
   "source": [
    "# z_reshape=sort_data.reshape(-1, 1) "
   ]
  },
  {
   "cell_type": "code",
   "execution_count": 106,
   "id": "12944959",
   "metadata": {},
   "outputs": [],
   "source": [
    "x_scaled=scaler.fit_transform(df[['placement_offer']])"
   ]
  },
  {
   "cell_type": "code",
   "execution_count": 107,
   "id": "eada57bf",
   "metadata": {},
   "outputs": [],
   "source": [
    "df['placement_offer'] = x_scaled"
   ]
  },
  {
   "cell_type": "code",
   "execution_count": 108,
   "id": "41a23163",
   "metadata": {},
   "outputs": [
    {
     "data": {
      "text/plain": [
       "0     0.988636\n",
       "1     0.840909\n",
       "2     0.840909\n",
       "3     0.147727\n",
       "4     0.863636\n",
       "5     0.454545\n",
       "6     0.340909\n",
       "7     0.056818\n",
       "8     0.079545\n",
       "9     0.215909\n",
       "10    0.000000\n",
       "11    0.147727\n",
       "12    0.340909\n",
       "13    0.920455\n",
       "14    0.545455\n",
       "15    0.988636\n",
       "16    0.113636\n",
       "17    0.022727\n",
       "18    0.250000\n",
       "19    0.590909\n",
       "20    0.625000\n",
       "21    0.852273\n",
       "22    0.011364\n",
       "23    0.068182\n",
       "24    1.000000\n",
       "25    0.772727\n",
       "26    0.397727\n",
       "27    0.443182\n",
       "28    0.863636\n",
       "29    0.409091\n",
       "Name: placement_offer, dtype: float64"
      ]
     },
     "execution_count": 108,
     "metadata": {},
     "output_type": "execute_result"
    }
   ],
   "source": [
    "df['placement_offer']"
   ]
  },
  {
   "cell_type": "code",
   "execution_count": 109,
   "id": "2664669f",
   "metadata": {},
   "outputs": [
    {
     "data": {
      "text/plain": [
       "count    30.000000\n",
       "mean      0.473106\n",
       "std       0.347180\n",
       "min       0.000000\n",
       "25%       0.147727\n",
       "50%       0.426136\n",
       "75%       0.840909\n",
       "max       1.000000\n",
       "Name: placement_offer, dtype: float64"
      ]
     },
     "execution_count": 109,
     "metadata": {},
     "output_type": "execute_result"
    }
   ],
   "source": [
    "df['placement_offer'].describe()"
   ]
  },
  {
   "cell_type": "code",
   "execution_count": null,
   "id": "2fa39336",
   "metadata": {},
   "outputs": [],
   "source": []
  }
 ],
 "metadata": {
  "kernelspec": {
   "display_name": "Python 3 (ipykernel)",
   "language": "python",
   "name": "python3"
  },
  "language_info": {
   "codemirror_mode": {
    "name": "ipython",
    "version": 3
   },
   "file_extension": ".py",
   "mimetype": "text/x-python",
   "name": "python",
   "nbconvert_exporter": "python",
   "pygments_lexer": "ipython3",
   "version": "3.11.5"
  }
 },
 "nbformat": 4,
 "nbformat_minor": 5
}
