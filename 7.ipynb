{
 "cells": [
  {
   "cell_type": "code",
   "execution_count": 9,
   "id": "c4171129",
   "metadata": {},
   "outputs": [],
   "source": [
    "import nltk"
   ]
  },
  {
   "cell_type": "code",
   "execution_count": 10,
   "id": "15c95ef7",
   "metadata": {},
   "outputs": [
    {
     "name": "stderr",
     "output_type": "stream",
     "text": [
      "[nltk_data] Downloading package punkt to\n",
      "[nltk_data]     C:\\Users\\hp\\AppData\\Roaming\\nltk_data...\n",
      "[nltk_data]   Package punkt is already up-to-date!\n",
      "[nltk_data] Downloading package stopwords to\n",
      "[nltk_data]     C:\\Users\\hp\\AppData\\Roaming\\nltk_data...\n",
      "[nltk_data]   Package stopwords is already up-to-date!\n",
      "[nltk_data] Downloading package wordnet to\n",
      "[nltk_data]     C:\\Users\\hp\\AppData\\Roaming\\nltk_data...\n",
      "[nltk_data]   Package wordnet is already up-to-date!\n",
      "[nltk_data] Downloading package averaged_perceptron_tagger to\n",
      "[nltk_data]     C:\\Users\\hp\\AppData\\Roaming\\nltk_data...\n",
      "[nltk_data]   Package averaged_perceptron_tagger is already up-to-\n",
      "[nltk_data]       date!\n"
     ]
    },
    {
     "data": {
      "text/plain": [
       "True"
      ]
     },
     "execution_count": 10,
     "metadata": {},
     "output_type": "execute_result"
    }
   ],
   "source": [
    "nltk.download('punkt')\n",
    "nltk.download('stopwords')\n",
    "nltk.download('wordnet')\n",
    "nltk.download('averaged_perceptron_tagger')"
   ]
  },
  {
   "cell_type": "code",
   "execution_count": 11,
   "id": "59c777b9",
   "metadata": {},
   "outputs": [],
   "source": [
    "text = \"Tokenization is the first step in text analytics. The process of breaking down a text paragraph into smaller chunks such as words or sentences is called Tokenization.\""
   ]
  },
  {
   "cell_type": "code",
   "execution_count": 12,
   "id": "3315f4ea",
   "metadata": {},
   "outputs": [
    {
     "name": "stdout",
     "output_type": "stream",
     "text": [
      "['Tokenization is the first step in text analytics.', 'The process of breaking down a text paragraph into smaller chunks such as words or sentences is called Tokenization.']\n"
     ]
    }
   ],
   "source": [
    "# Sentence Tokenization\n",
    "from nltk.tokenize import sent_tokenize\n",
    "tokenized_text = sent_tokenize(text)\n",
    "print(tokenized_text)"
   ]
  },
  {
   "cell_type": "code",
   "execution_count": 13,
   "id": "743ecf5d",
   "metadata": {},
   "outputs": [
    {
     "name": "stdout",
     "output_type": "stream",
     "text": [
      "['Tokenization', 'is', 'the', 'first', 'step', 'in', 'text', 'analytics', '.', 'The', 'process', 'of', 'breaking', 'down', 'a', 'text', 'paragraph', 'into', 'smaller', 'chunks', 'such', 'as', 'words', 'or', 'sentences', 'is', 'called', 'Tokenization', '.']\n"
     ]
    }
   ],
   "source": [
    "# Word Tokenization\n",
    "from nltk.tokenize import word_tokenize\n",
    "tokenized_word = word_tokenize(text)\n",
    "print(tokenized_word)"
   ]
  },
  {
   "cell_type": "code",
   "execution_count": 14,
   "id": "351d17b3",
   "metadata": {},
   "outputs": [
    {
     "name": "stdout",
     "output_type": "stream",
     "text": [
      "{\"she's\", 've', 'mightn', 'won', 'only', 'off', 'should', 'your', 'same', 'for', 'y', 'his', 'what', 'aren', 'up', 'nor', 'be', 'an', 'both', 'doing', 'myself', \"hadn't\", 'there', 'now', \"haven't\", 'shan', 'shouldn', 'hasn', 'themselves', 'our', 'between', 'm', \"don't\", 'it', 'very', \"it's\", \"aren't\", \"shan't\", 'again', 'further', 'no', 'from', 'am', 'or', 'ours', 'don', 'after', 'just', \"isn't\", 'him', 'had', 'who', 'at', \"you'll\", 'of', 'herself', 'until', 'because', \"wasn't\", 'those', 'yourselves', 'to', 'than', 'and', 'which', 'with', 'himself', 'then', 'i', 'all', 'during', 'does', \"you're\", 'against', 'they', 'theirs', 'that', \"weren't\", 'do', 'any', 'on', \"that'll\", 'while', 'he', 'are', 'doesn', 'yourself', \"should've\", 'into', 'hers', \"you'd\", 'haven', 's', 'did', 'over', 'some', 'couldn', 'll', 'by', 'yours', 'when', 'here', 'few', \"mustn't\", 'being', 'how', \"didn't\", \"needn't\", 'been', 't', 'were', 'isn', 'ourselves', \"wouldn't\", 'about', 'not', 'but', 'their', \"mightn't\", 'this', 'whom', \"you've\", 'under', 'before', 'a', 'so', 'mustn', 'more', 'each', 'below', 'weren', 'too', 'has', 'own', 'having', 'through', 'the', 're', 'my', 'ain', 'where', 'ma', 'these', \"shouldn't\", 'we', 'itself', 'me', 'hadn', 'you', 'have', 'down', 'her', 'will', 'she', 'most', 'them', \"won't\", 'didn', \"doesn't\", 'o', 'can', 'was', 'as', \"hasn't\", 'out', 'above', 'other', 'wouldn', 'd', 'its', 'in', 'why', 'needn', 'if', 'once', 'such', 'is', \"couldn't\", 'wasn'}\n"
     ]
    }
   ],
   "source": [
    "# print stop words of English\n",
    "from nltk.corpus import stopwords\n",
    "stop_words = set(stopwords.words(\"english\"))\n",
    "print(stop_words)"
   ]
  },
  {
   "cell_type": "code",
   "execution_count": 15,
   "id": "ec1c6f92",
   "metadata": {},
   "outputs": [
    {
     "name": "stdout",
     "output_type": "stream",
     "text": [
      "Tokenized Sentence :  ['tokenization', 'is', 'the', 'first', 'step', 'in', 'text', 'analytics', '.', 'the', 'process', 'of', 'breaking', 'down', 'a', 'text', 'paragraph', 'into', 'smaller', 'chunks', 'such', 'as', 'words', 'or', 'sentences', 'is', 'called', 'tokenization', '.']\n",
      "\n",
      "Filtered Sentence :  ['tokenization', 'first', 'step', 'text', 'analytics', 'process', 'breaking', 'text', 'paragraph', 'smaller', 'chunks', 'words', 'sentences', 'called', 'tokenization']\n"
     ]
    }
   ],
   "source": [
    "tokens = word_tokenize(text.lower())\n",
    "filtered_text = []\n",
    "symbols = ['(',')','.',',']\n",
    "\n",
    "for w in tokens :\n",
    "    if w not in stop_words and w not in symbols:\n",
    "        filtered_text.append(w)\n",
    "\n",
    "print(\"Tokenized Sentence : \",tokens)\n",
    "print()\n",
    "print(\"Filtered Sentence : \",filtered_text)"
   ]
  },
  {
   "cell_type": "code",
   "execution_count": 16,
   "id": "15ff9ad8",
   "metadata": {},
   "outputs": [
    {
     "name": "stdout",
     "output_type": "stream",
     "text": [
      "['token', 'first', 'step', 'text', 'analyt', 'process', 'break', 'text', 'paragraph', 'smaller', 'chunk', 'word', 'sentenc', 'call', 'token']\n"
     ]
    }
   ],
   "source": [
    "from nltk.stem import PorterStemmer\n",
    "ps = PorterStemmer()\n",
    "stemm = []\n",
    "for w in filtered_text:\n",
    "    rootWord = stemm.append(ps.stem(w))\n",
    "print(stemm)"
   ]
  },
  {
   "cell_type": "code",
   "execution_count": 17,
   "id": "7a9041f1",
   "metadata": {},
   "outputs": [
    {
     "name": "stdout",
     "output_type": "stream",
     "text": [
      "Lemma for studies is study\n",
      "Lemma for studying is studying\n",
      "Lemma for cries is cry\n",
      "Lemma for cry is cry\n"
     ]
    }
   ],
   "source": [
    "from nltk.stem import WordNetLemmatizer\n",
    "wordnet_lemmatizer = WordNetLemmatizer()\n",
    "text = \"studies studying cries cry\"\n",
    "tokenization = nltk.word_tokenize(text)\n",
    "for w in tokenization : \n",
    "    print(\"Lemma for {} is {}\".format(w,wordnet_lemmatizer.lemmatize(w)))\n"
   ]
  },
  {
   "cell_type": "code",
   "execution_count": 18,
   "id": "02064b2a",
   "metadata": {},
   "outputs": [
    {
     "name": "stdout",
     "output_type": "stream",
     "text": [
      "[[('tokenization', 'NN')], [('first', 'RB')], [('step', 'NN')], [('text', 'NN')], [('analytics', 'NNS')], [('process', 'NN')], [('breaking', 'VBG')], [('text', 'NN')], [('paragraph', 'NN')], [('smaller', 'JJR')], [('chunks', 'NNS')], [('words', 'NNS')], [('sentences', 'NNS')], [('called', 'VBN')], [('tokenization', 'NN')]]\n"
     ]
    }
   ],
   "source": [
    "pos =[]\n",
    "for w in filtered_text :\n",
    "    pos.append(nltk.pos_tag([w]))\n",
    "print(pos)"
   ]
  },
  {
   "cell_type": "code",
   "execution_count": null,
   "id": "4bb780a1",
   "metadata": {},
   "outputs": [],
   "source": []
  },
  {
   "cell_type": "code",
   "execution_count": 19,
   "id": "542d4c18",
   "metadata": {},
   "outputs": [],
   "source": [
    "import pandas as pd\n",
    "from sklearn.feature_extraction.text import TfidfVectorizer"
   ]
  },
  {
   "cell_type": "code",
   "execution_count": 20,
   "id": "82440805",
   "metadata": {},
   "outputs": [],
   "source": [
    "documentA = 'Jupiter is the largest planet'\n",
    "documentB = 'Mars is the fourth planet from the Sun'"
   ]
  },
  {
   "cell_type": "code",
   "execution_count": 21,
   "id": "c8c22e3c",
   "metadata": {},
   "outputs": [],
   "source": [
    "bagOfWordsA = documentA.split(' ')\n",
    "bagOfWordsB = documentB.split(' ')"
   ]
  },
  {
   "cell_type": "code",
   "execution_count": 22,
   "id": "c71012c3",
   "metadata": {},
   "outputs": [],
   "source": [
    "uniqueWords = set(bagOfWordsA).union(set(bagOfWordsB))"
   ]
  },
  {
   "cell_type": "code",
   "execution_count": 23,
   "id": "93b41963",
   "metadata": {},
   "outputs": [
    {
     "name": "stdout",
     "output_type": "stream",
     "text": [
      "{'the': 1, 'largest': 1, 'fourth': 0, 'from': 0, 'Jupiter': 1, 'Sun': 0, 'is': 1, 'Mars': 0, 'planet': 1}\n"
     ]
    }
   ],
   "source": [
    "numOfWordsA = dict.fromkeys(uniqueWords,0)\n",
    "for word in bagOfWordsA :\n",
    "    numOfWordsA[word] += 1\n",
    "\n",
    "print(numOfWordsA)"
   ]
  },
  {
   "cell_type": "code",
   "execution_count": 24,
   "id": "a8efcef8",
   "metadata": {},
   "outputs": [
    {
     "name": "stdout",
     "output_type": "stream",
     "text": [
      "{'the': 2, 'largest': 0, 'fourth': 1, 'from': 1, 'Jupiter': 0, 'Sun': 1, 'is': 1, 'Mars': 1, 'planet': 1}\n"
     ]
    }
   ],
   "source": [
    "numOfWordsB = dict.fromkeys(uniqueWords,0)\n",
    "for word in bagOfWordsB:\n",
    "    numOfWordsB[word] += 1\n",
    "\n",
    "print(numOfWordsB)"
   ]
  },
  {
   "cell_type": "code",
   "execution_count": 25,
   "id": "c5d71a50",
   "metadata": {},
   "outputs": [],
   "source": [
    "def computeTF(wordDict,bagOfWords):\n",
    "    tfDict = {}\n",
    "    bagOfWordsCount = len(bagOfWords)\n",
    "    for word,count in wordDict.items():\n",
    "        tfDict[word] = count / float(bagOfWordsCount)\n",
    "    return tfDict"
   ]
  },
  {
   "cell_type": "code",
   "execution_count": 26,
   "id": "8749ff2f",
   "metadata": {},
   "outputs": [],
   "source": [
    "tfA = computeTF(numOfWordsA,bagOfWordsA)\n",
    "tfB = computeTF(numOfWordsB,bagOfWordsB)"
   ]
  },
  {
   "cell_type": "code",
   "execution_count": 27,
   "id": "16f5055b",
   "metadata": {},
   "outputs": [],
   "source": [
    "def computeIDF(documents):\n",
    "    import math\n",
    "    N = len(documents)\n",
    "    idfDict = dict.fromkeys(documents[0].keys(),0)\n",
    "    \n",
    "    for document in documents :\n",
    "        for word,val in document.items():\n",
    "            if val > 0:\n",
    "                idfDict[word] += 1\n",
    "    \n",
    "    for word,val in idfDict.items():\n",
    "        if val > 0:\n",
    "            idfDict[word] = math.log(N / float(val))\n",
    "        else :\n",
    "            idfDict[word] = 0\n",
    "        \n",
    "    return idfDict"
   ]
  },
  {
   "cell_type": "code",
   "execution_count": 28,
   "id": "e819028e",
   "metadata": {},
   "outputs": [
    {
     "data": {
      "text/plain": [
       "{'the': 0.0,\n",
       " 'largest': 0.6931471805599453,\n",
       " 'fourth': 0.6931471805599453,\n",
       " 'from': 0.6931471805599453,\n",
       " 'Jupiter': 0.6931471805599453,\n",
       " 'Sun': 0.6931471805599453,\n",
       " 'is': 0.0,\n",
       " 'Mars': 0.6931471805599453,\n",
       " 'planet': 0.0}"
      ]
     },
     "execution_count": 28,
     "metadata": {},
     "output_type": "execute_result"
    }
   ],
   "source": [
    "idfs = computeIDF([numOfWordsA , numOfWordsB])\n",
    "idfs"
   ]
  },
  {
   "cell_type": "code",
   "execution_count": 29,
   "id": "e04bf086",
   "metadata": {},
   "outputs": [
    {
     "name": "stdout",
     "output_type": "stream",
     "text": [
      "{'the': 0.0, 'largest': 0.13862943611198905, 'fourth': 0.0, 'from': 0.0, 'Jupiter': 0.13862943611198905, 'Sun': 0.0, 'is': 0.0, 'Mars': 0.0, 'planet': 0.0}\n",
      "{'the': 0.0, 'largest': 0.0, 'fourth': 0.08664339756999316, 'from': 0.08664339756999316, 'Jupiter': 0.0, 'Sun': 0.08664339756999316, 'is': 0.0, 'Mars': 0.08664339756999316, 'planet': 0.0}\n"
     ]
    },
    {
     "data": {
      "text/html": [
       "<div>\n",
       "<style scoped>\n",
       "    .dataframe tbody tr th:only-of-type {\n",
       "        vertical-align: middle;\n",
       "    }\n",
       "\n",
       "    .dataframe tbody tr th {\n",
       "        vertical-align: top;\n",
       "    }\n",
       "\n",
       "    .dataframe thead th {\n",
       "        text-align: right;\n",
       "    }\n",
       "</style>\n",
       "<table border=\"1\" class=\"dataframe\">\n",
       "  <thead>\n",
       "    <tr style=\"text-align: right;\">\n",
       "      <th></th>\n",
       "      <th>the</th>\n",
       "      <th>largest</th>\n",
       "      <th>fourth</th>\n",
       "      <th>from</th>\n",
       "      <th>Jupiter</th>\n",
       "      <th>Sun</th>\n",
       "      <th>is</th>\n",
       "      <th>Mars</th>\n",
       "      <th>planet</th>\n",
       "    </tr>\n",
       "  </thead>\n",
       "  <tbody>\n",
       "    <tr>\n",
       "      <th>0</th>\n",
       "      <td>0.0</td>\n",
       "      <td>0.138629</td>\n",
       "      <td>0.000000</td>\n",
       "      <td>0.000000</td>\n",
       "      <td>0.138629</td>\n",
       "      <td>0.000000</td>\n",
       "      <td>0.0</td>\n",
       "      <td>0.000000</td>\n",
       "      <td>0.0</td>\n",
       "    </tr>\n",
       "    <tr>\n",
       "      <th>1</th>\n",
       "      <td>0.0</td>\n",
       "      <td>0.000000</td>\n",
       "      <td>0.086643</td>\n",
       "      <td>0.086643</td>\n",
       "      <td>0.000000</td>\n",
       "      <td>0.086643</td>\n",
       "      <td>0.0</td>\n",
       "      <td>0.086643</td>\n",
       "      <td>0.0</td>\n",
       "    </tr>\n",
       "  </tbody>\n",
       "</table>\n",
       "</div>"
      ],
      "text/plain": [
       "   the   largest    fourth      from   Jupiter       Sun   is      Mars  \\\n",
       "0  0.0  0.138629  0.000000  0.000000  0.138629  0.000000  0.0  0.000000   \n",
       "1  0.0  0.000000  0.086643  0.086643  0.000000  0.086643  0.0  0.086643   \n",
       "\n",
       "   planet  \n",
       "0     0.0  \n",
       "1     0.0  "
      ]
     },
     "execution_count": 29,
     "metadata": {},
     "output_type": "execute_result"
    }
   ],
   "source": [
    "def computeTFIDF(tfBagOfWords, idfs):\n",
    "    tfidf = {}\n",
    "    for word, val in tfBagOfWords.items():\n",
    "        tfidf[word] = val * idfs[word]\n",
    "    return tfidf\n",
    "\n",
    "tfidfA = computeTFIDF(tfA, idfs)\n",
    "print(tfidfA)\n",
    "\n",
    "tfidfB = computeTFIDF(tfB,idfs)\n",
    "print(tfidfB)\n",
    "\n",
    "df = pd.DataFrame([tfidfA, tfidfB])\n",
    "df"
   ]
  },
  {
   "cell_type": "code",
   "execution_count": null,
   "id": "c2a8e1c8",
   "metadata": {},
   "outputs": [],
   "source": []
  }
 ],
 "metadata": {
  "kernelspec": {
   "display_name": "Python 3 (ipykernel)",
   "language": "python",
   "name": "python3"
  },
  "language_info": {
   "codemirror_mode": {
    "name": "ipython",
    "version": 3
   },
   "file_extension": ".py",
   "mimetype": "text/x-python",
   "name": "python",
   "nbconvert_exporter": "python",
   "pygments_lexer": "ipython3",
   "version": "3.11.5"
  }
 },
 "nbformat": 4,
 "nbformat_minor": 5
}
